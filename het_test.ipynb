{
  "nbformat": 4,
  "nbformat_minor": 0,
  "metadata": {
    "colab": {
      "provenance": []
    },
    "kernelspec": {
      "name": "python3",
      "display_name": "Python 3"
    },
    "language_info": {
      "name": "python"
    }
  },
  "cells": [
    {
      "cell_type": "code",
      "execution_count": 18,
      "metadata": {
        "colab": {
          "base_uri": "https://localhost:8080/"
        },
        "id": "WKTa6v-GNRDB",
        "outputId": "1bd53526-4c54-436c-bd0d-e52972cd06ed"
      },
      "outputs": [
        {
          "output_type": "stream",
          "name": "stdout",
          "text": [
            "Looking in indexes: https://pypi.org/simple, https://us-python.pkg.dev/colab-wheels/public/simple/\n",
            "Requirement already satisfied: wooldridge in /usr/local/lib/python3.10/dist-packages (0.4.4)\n",
            "Requirement already satisfied: pandas in /usr/local/lib/python3.10/dist-packages (from wooldridge) (1.5.3)\n",
            "Requirement already satisfied: python-dateutil>=2.8.1 in /usr/local/lib/python3.10/dist-packages (from pandas->wooldridge) (2.8.2)\n",
            "Requirement already satisfied: pytz>=2020.1 in /usr/local/lib/python3.10/dist-packages (from pandas->wooldridge) (2022.7.1)\n",
            "Requirement already satisfied: numpy>=1.21.0 in /usr/local/lib/python3.10/dist-packages (from pandas->wooldridge) (1.22.4)\n",
            "Requirement already satisfied: six>=1.5 in /usr/local/lib/python3.10/dist-packages (from python-dateutil>=2.8.1->pandas->wooldridge) (1.16.0)\n"
          ]
        }
      ],
      "source": [
        "!pip install wooldridge\n",
        "import wooldridge as wd\n",
        "import numpy as np\n",
        "import pandas as pd\n",
        "import matplotlib.pyplot as plt\n",
        "import scipy.stats as st"
      ]
    },
    {
      "cell_type": "code",
      "source": [
        "wage = wd.data('wage1')[['wage', 'educ']]\n",
        "y = wage['wage']\n",
        "x = wage['educ']"
      ],
      "metadata": {
        "id": "qtU-JpsTNVzi"
      },
      "execution_count": 32,
      "outputs": []
    },
    {
      "cell_type": "code",
      "source": [
        "plt.scatter(x, y)"
      ],
      "metadata": {
        "id": "XP49PCPjNduH"
      },
      "execution_count": null,
      "outputs": []
    },
    {
      "cell_type": "markdown",
      "source": [
        "## White"
      ],
      "metadata": {
        "id": "IxkmU1X3No-s"
      }
    },
    {
      "cell_type": "markdown",
      "source": [
        "1. y en x"
      ],
      "metadata": {
        "id": "hDeqikMaNq1S"
      }
    },
    {
      "cell_type": "code",
      "source": [
        "x = np.c_[np.ones(len(x)), x]"
      ],
      "metadata": {
        "id": "88OZR1MkNjFX"
      },
      "execution_count": null,
      "outputs": []
    },
    {
      "cell_type": "code",
      "source": [
        "betas = np.linalg.inv(x.T.dot(x)).dot(x.T.dot(y))"
      ],
      "metadata": {
        "id": "jGfApxcZNyyn"
      },
      "execution_count": 9,
      "outputs": []
    },
    {
      "cell_type": "markdown",
      "source": [
        "2. Encontrar el error estimado"
      ],
      "metadata": {
        "id": "uJxkNxQ1OAQ-"
      }
    },
    {
      "cell_type": "code",
      "source": [
        "y_est = x.dot(betas)\n",
        "y_est_2 = y_est ** 2\n",
        "u_est = y - y_est\n",
        "u_est_2 = u_est ** 2"
      ],
      "metadata": {
        "id": "lnVd3pQHN6Bm"
      },
      "execution_count": 10,
      "outputs": []
    },
    {
      "cell_type": "markdown",
      "source": [
        "3. $\\hat{u}^2$ sobre $\\hat{y}$ y $\\hat{y}^2$"
      ],
      "metadata": {
        "id": "splJQDwzOPsc"
      }
    },
    {
      "cell_type": "code",
      "source": [
        "x_u = np.c_[np.ones(len(y_est)), y_est, y_est_2]"
      ],
      "metadata": {
        "id": "1CMRZBpPOOsk"
      },
      "execution_count": 11,
      "outputs": []
    },
    {
      "cell_type": "code",
      "source": [
        "betas_u = np.linalg.inv(x_u.T.dot(x_u)).dot(x_u.T.dot(u_est_2))"
      ],
      "metadata": {
        "id": "T-dqeC9bOn7z"
      },
      "execution_count": 13,
      "outputs": []
    },
    {
      "cell_type": "code",
      "source": [
        "u_est_2_est = x_u.dot(betas_u)\n",
        "sst = sum((u_est_2 - u_est_2.mean()) ** 2) \n",
        "sse = sum((u_est_2_est - u_est_2.mean()) ** 2)\n",
        "r2 = sse / sst"
      ],
      "metadata": {
        "id": "6QjPKu1sOuqS"
      },
      "execution_count": 14,
      "outputs": []
    },
    {
      "cell_type": "code",
      "source": [
        "chi_stat = len(x_u) * r2"
      ],
      "metadata": {
        "id": "Tgm-UdthPHni"
      },
      "execution_count": 16,
      "outputs": []
    },
    {
      "cell_type": "code",
      "source": [
        "chi_stat"
      ],
      "metadata": {
        "colab": {
          "base_uri": "https://localhost:8080/"
        },
        "id": "9CgstCB8PIHS",
        "outputId": "c9a47437-c015-49b8-9e35-b544b79a292e"
      },
      "execution_count": 17,
      "outputs": [
        {
          "output_type": "execute_result",
          "data": {
            "text/plain": [
              "23.240554444415054"
            ]
          },
          "metadata": {},
          "execution_count": 17
        }
      ]
    },
    {
      "cell_type": "code",
      "source": [
        "chi = st.chi2(2)\n",
        "p_valor = 1 - chi.cdf(chi_stat)"
      ],
      "metadata": {
        "id": "UQh-sQxwPOzh"
      },
      "execution_count": 19,
      "outputs": []
    },
    {
      "cell_type": "code",
      "source": [
        "p_valor"
      ],
      "metadata": {
        "colab": {
          "base_uri": "https://localhost:8080/"
        },
        "id": "N6rkZnVDPa2d",
        "outputId": "00bf4e15-e5a5-4e6c-971b-f1ae15a32f49"
      },
      "execution_count": 20,
      "outputs": [
        {
          "output_type": "execute_result",
          "data": {
            "text/plain": [
              "8.982096656673377e-06"
            ]
          },
          "metadata": {},
          "execution_count": 20
        }
      ]
    },
    {
      "cell_type": "markdown",
      "source": [
        "## Breusch-Pagan"
      ],
      "metadata": {
        "id": "L85sKSE1PkPu"
      }
    },
    {
      "cell_type": "code",
      "source": [
        "betas_u = np.linalg.inv(x.T.dot(x)).dot(x.T.dot(u_est_2))"
      ],
      "metadata": {
        "id": "y_J0AhD7PbPu"
      },
      "execution_count": 21,
      "outputs": []
    },
    {
      "cell_type": "code",
      "source": [
        "betas_u"
      ],
      "metadata": {
        "colab": {
          "base_uri": "https://localhost:8080/"
        },
        "id": "kuzDZDYqPzJx",
        "outputId": "1e8dd115-6cf6-45eb-95ac-b029961900a8"
      },
      "execution_count": 22,
      "outputs": [
        {
          "output_type": "execute_result",
          "data": {
            "text/plain": [
              "array([-11.59282616,   1.8278615 ])"
            ]
          },
          "metadata": {},
          "execution_count": 22
        }
      ]
    },
    {
      "cell_type": "code",
      "source": [
        "u_est_2_est = x.dot(betas_u)\n",
        "sst = sum((u_est_2 - u_est_2.mean()) ** 2) \n",
        "sse = sum((u_est_2_est - u_est_2.mean()) ** 2)\n",
        "r2 = sse / sst"
      ],
      "metadata": {
        "id": "yxwnMhToP0FA"
      },
      "execution_count": 23,
      "outputs": []
    },
    {
      "cell_type": "code",
      "source": [
        "r2"
      ],
      "metadata": {
        "colab": {
          "base_uri": "https://localhost:8080/"
        },
        "id": "R3IHTjcxP8aw",
        "outputId": "0f7009a6-f341-4825-dbc7-de239af05d30"
      },
      "execution_count": 24,
      "outputs": [
        {
          "output_type": "execute_result",
          "data": {
            "text/plain": [
              "0.029098153431596895"
            ]
          },
          "metadata": {},
          "execution_count": 24
        }
      ]
    },
    {
      "cell_type": "code",
      "source": [
        "chi_stat = len(x) * r2"
      ],
      "metadata": {
        "id": "o6lWbTNgP8wg"
      },
      "execution_count": 25,
      "outputs": []
    },
    {
      "cell_type": "code",
      "source": [
        "chi_stat"
      ],
      "metadata": {
        "colab": {
          "base_uri": "https://localhost:8080/"
        },
        "id": "waOMzmA2P_sQ",
        "outputId": "9fc5ff53-45a9-4110-aefb-519558d5fa0e"
      },
      "execution_count": 26,
      "outputs": [
        {
          "output_type": "execute_result",
          "data": {
            "text/plain": [
              "15.305628705019966"
            ]
          },
          "metadata": {},
          "execution_count": 26
        }
      ]
    },
    {
      "cell_type": "code",
      "source": [
        "chi = st.chi2(1)\n",
        "p_valor = 1 - chi.cdf(chi_stat)"
      ],
      "metadata": {
        "id": "bOzItsBOQAGg"
      },
      "execution_count": 27,
      "outputs": []
    },
    {
      "cell_type": "code",
      "source": [
        "p_valor"
      ],
      "metadata": {
        "colab": {
          "base_uri": "https://localhost:8080/"
        },
        "id": "yeWS73SyQGbw",
        "outputId": "73bdfddb-a0a0-4479-9c24-bca1a26c246c"
      },
      "execution_count": 28,
      "outputs": [
        {
          "output_type": "execute_result",
          "data": {
            "text/plain": [
              "9.144363288382529e-05"
            ]
          },
          "metadata": {},
          "execution_count": 28
        }
      ]
    },
    {
      "cell_type": "code",
      "source": [
        "import statsmodels.api as sm\n",
        "import statsmodels.stats.api as sms"
      ],
      "metadata": {
        "id": "J-pYAQPEQG8Q"
      },
      "execution_count": 29,
      "outputs": []
    },
    {
      "cell_type": "code",
      "source": [
        "x = sm.add_constant(x)\n",
        "model = sm.OLS(y, x)\n",
        "reg = model.fit()\n",
        "wh = sms.het_white(reg.resid, reg.model.exog)"
      ],
      "metadata": {
        "id": "vsUpnpkOQOCA"
      },
      "execution_count": 35,
      "outputs": []
    },
    {
      "cell_type": "code",
      "source": [
        "bp = sms.het_breuschpagan(reg.resid, reg.model.exog)"
      ],
      "metadata": {
        "id": "2Zmhy-UEQVeP"
      },
      "execution_count": 36,
      "outputs": []
    },
    {
      "cell_type": "code",
      "source": [
        "df = pd.DataFrame(np.vstack([np.array(wh),\n",
        "np.array(bp)]).T, columns=['white', 'breusch-pagan'], index=['chi_stat', 'p_val','f_stat','p_val'])"
      ],
      "metadata": {
        "id": "gIkvHGN1QaB_"
      },
      "execution_count": 43,
      "outputs": []
    },
    {
      "cell_type": "code",
      "source": [
        "df"
      ],
      "metadata": {
        "colab": {
          "base_uri": "https://localhost:8080/",
          "height": 174
        },
        "id": "B2B5Y7EoTAep",
        "outputId": "01bfefa6-1c9a-442b-cff8-46ac55d780d0"
      },
      "execution_count": 44,
      "outputs": [
        {
          "output_type": "execute_result",
          "data": {
            "text/plain": [
              "              white  breusch-pagan\n",
              "chi_stat  23.240554      15.305629\n",
              "p_val      0.000009       0.000091\n",
              "f_stat    12.088097      15.704401\n",
              "p_val      0.000007       0.000084"
            ],
            "text/html": [
              "\n",
              "  <div id=\"df-ccd7424a-664a-4a98-b2a9-330c09e216c3\">\n",
              "    <div class=\"colab-df-container\">\n",
              "      <div>\n",
              "<style scoped>\n",
              "    .dataframe tbody tr th:only-of-type {\n",
              "        vertical-align: middle;\n",
              "    }\n",
              "\n",
              "    .dataframe tbody tr th {\n",
              "        vertical-align: top;\n",
              "    }\n",
              "\n",
              "    .dataframe thead th {\n",
              "        text-align: right;\n",
              "    }\n",
              "</style>\n",
              "<table border=\"1\" class=\"dataframe\">\n",
              "  <thead>\n",
              "    <tr style=\"text-align: right;\">\n",
              "      <th></th>\n",
              "      <th>white</th>\n",
              "      <th>breusch-pagan</th>\n",
              "    </tr>\n",
              "  </thead>\n",
              "  <tbody>\n",
              "    <tr>\n",
              "      <th>chi_stat</th>\n",
              "      <td>23.240554</td>\n",
              "      <td>15.305629</td>\n",
              "    </tr>\n",
              "    <tr>\n",
              "      <th>p_val</th>\n",
              "      <td>0.000009</td>\n",
              "      <td>0.000091</td>\n",
              "    </tr>\n",
              "    <tr>\n",
              "      <th>f_stat</th>\n",
              "      <td>12.088097</td>\n",
              "      <td>15.704401</td>\n",
              "    </tr>\n",
              "    <tr>\n",
              "      <th>p_val</th>\n",
              "      <td>0.000007</td>\n",
              "      <td>0.000084</td>\n",
              "    </tr>\n",
              "  </tbody>\n",
              "</table>\n",
              "</div>\n",
              "      <button class=\"colab-df-convert\" onclick=\"convertToInteractive('df-ccd7424a-664a-4a98-b2a9-330c09e216c3')\"\n",
              "              title=\"Convert this dataframe to an interactive table.\"\n",
              "              style=\"display:none;\">\n",
              "        \n",
              "  <svg xmlns=\"http://www.w3.org/2000/svg\" height=\"24px\"viewBox=\"0 0 24 24\"\n",
              "       width=\"24px\">\n",
              "    <path d=\"M0 0h24v24H0V0z\" fill=\"none\"/>\n",
              "    <path d=\"M18.56 5.44l.94 2.06.94-2.06 2.06-.94-2.06-.94-.94-2.06-.94 2.06-2.06.94zm-11 1L8.5 8.5l.94-2.06 2.06-.94-2.06-.94L8.5 2.5l-.94 2.06-2.06.94zm10 10l.94 2.06.94-2.06 2.06-.94-2.06-.94-.94-2.06-.94 2.06-2.06.94z\"/><path d=\"M17.41 7.96l-1.37-1.37c-.4-.4-.92-.59-1.43-.59-.52 0-1.04.2-1.43.59L10.3 9.45l-7.72 7.72c-.78.78-.78 2.05 0 2.83L4 21.41c.39.39.9.59 1.41.59.51 0 1.02-.2 1.41-.59l7.78-7.78 2.81-2.81c.8-.78.8-2.07 0-2.86zM5.41 20L4 18.59l7.72-7.72 1.47 1.35L5.41 20z\"/>\n",
              "  </svg>\n",
              "      </button>\n",
              "      \n",
              "  <style>\n",
              "    .colab-df-container {\n",
              "      display:flex;\n",
              "      flex-wrap:wrap;\n",
              "      gap: 12px;\n",
              "    }\n",
              "\n",
              "    .colab-df-convert {\n",
              "      background-color: #E8F0FE;\n",
              "      border: none;\n",
              "      border-radius: 50%;\n",
              "      cursor: pointer;\n",
              "      display: none;\n",
              "      fill: #1967D2;\n",
              "      height: 32px;\n",
              "      padding: 0 0 0 0;\n",
              "      width: 32px;\n",
              "    }\n",
              "\n",
              "    .colab-df-convert:hover {\n",
              "      background-color: #E2EBFA;\n",
              "      box-shadow: 0px 1px 2px rgba(60, 64, 67, 0.3), 0px 1px 3px 1px rgba(60, 64, 67, 0.15);\n",
              "      fill: #174EA6;\n",
              "    }\n",
              "\n",
              "    [theme=dark] .colab-df-convert {\n",
              "      background-color: #3B4455;\n",
              "      fill: #D2E3FC;\n",
              "    }\n",
              "\n",
              "    [theme=dark] .colab-df-convert:hover {\n",
              "      background-color: #434B5C;\n",
              "      box-shadow: 0px 1px 3px 1px rgba(0, 0, 0, 0.15);\n",
              "      filter: drop-shadow(0px 1px 2px rgba(0, 0, 0, 0.3));\n",
              "      fill: #FFFFFF;\n",
              "    }\n",
              "  </style>\n",
              "\n",
              "      <script>\n",
              "        const buttonEl =\n",
              "          document.querySelector('#df-ccd7424a-664a-4a98-b2a9-330c09e216c3 button.colab-df-convert');\n",
              "        buttonEl.style.display =\n",
              "          google.colab.kernel.accessAllowed ? 'block' : 'none';\n",
              "\n",
              "        async function convertToInteractive(key) {\n",
              "          const element = document.querySelector('#df-ccd7424a-664a-4a98-b2a9-330c09e216c3');\n",
              "          const dataTable =\n",
              "            await google.colab.kernel.invokeFunction('convertToInteractive',\n",
              "                                                     [key], {});\n",
              "          if (!dataTable) return;\n",
              "\n",
              "          const docLinkHtml = 'Like what you see? Visit the ' +\n",
              "            '<a target=\"_blank\" href=https://colab.research.google.com/notebooks/data_table.ipynb>data table notebook</a>'\n",
              "            + ' to learn more about interactive tables.';\n",
              "          element.innerHTML = '';\n",
              "          dataTable['output_type'] = 'display_data';\n",
              "          await google.colab.output.renderOutput(dataTable, element);\n",
              "          const docLink = document.createElement('div');\n",
              "          docLink.innerHTML = docLinkHtml;\n",
              "          element.appendChild(docLink);\n",
              "        }\n",
              "      </script>\n",
              "    </div>\n",
              "  </div>\n",
              "  "
            ]
          },
          "metadata": {},
          "execution_count": 44
        }
      ]
    },
    {
      "cell_type": "code",
      "source": [],
      "metadata": {
        "id": "p7C-B1HlTVBj"
      },
      "execution_count": null,
      "outputs": []
    }
  ]
}